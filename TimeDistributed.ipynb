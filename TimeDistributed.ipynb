{
  "nbformat": 4,
  "nbformat_minor": 0,
  "metadata": {
    "colab": {
      "name": "TimeDistributed.ipynb",
      "version": "0.3.2",
      "provenance": [],
      "collapsed_sections": [],
      "include_colab_link": true
    },
    "kernelspec": {
      "name": "python3",
      "display_name": "Python 3"
    }
  },
  "cells": [
    {
      "cell_type": "markdown",
      "metadata": {
        "id": "view-in-github",
        "colab_type": "text"
      },
      "source": [
        "<a href=\"https://colab.research.google.com/github/Nevercomes/MDeepLearning/blob/ipynb/TimeDistributed.ipynb\" target=\"_parent\"><img src=\"https://colab.research.google.com/assets/colab-badge.svg\" alt=\"Open In Colab\"/></a>"
      ]
    },
    {
      "metadata": {
        "id": "X2kdGPLdNsBF",
        "colab_type": "code",
        "colab": {}
      },
      "cell_type": "code",
      "source": [
        "import keras\n",
        "from keras.layers import Input, Dense\n",
        "from keras.models import Model\n",
        "\n",
        "inputs = Input(shape=(784, ))\n",
        "print(inputs)\n"
      ],
      "execution_count": 0,
      "outputs": []
    },
    {
      "metadata": {
        "id": "5CYVZpLDO-qy",
        "colab_type": "code",
        "colab": {}
      },
      "cell_type": "code",
      "source": [
        "x = Dense(64, activation='relu')(inputs)\n",
        "print(x)"
      ],
      "execution_count": 0,
      "outputs": []
    },
    {
      "metadata": {
        "id": "6BNVnh1vPAUA",
        "colab_type": "code",
        "colab": {}
      },
      "cell_type": "code",
      "source": [
        "x = Dense(64, activation='relu')(x)\n",
        "print(x)"
      ],
      "execution_count": 0,
      "outputs": []
    },
    {
      "metadata": {
        "id": "Mpa0wiQiPHuL",
        "colab_type": "code",
        "colab": {}
      },
      "cell_type": "code",
      "source": [
        "predictions = Dense(10, activation='softmax')(x)\n",
        "print(predictions)"
      ],
      "execution_count": 0,
      "outputs": []
    },
    {
      "metadata": {
        "id": "9GkoWwd2Pdtc",
        "colab_type": "code",
        "colab": {}
      },
      "cell_type": "code",
      "source": [
        "model = Model(input=inputs, output=predictions)\n",
        "print(model)"
      ],
      "execution_count": 0,
      "outputs": []
    },
    {
      "metadata": {
        "id": "5UAY0EZuPnUw",
        "colab_type": "code",
        "colab": {}
      },
      "cell_type": "code",
      "source": [
        "model.compile(optimizer='rmsprop',\n",
        "             loss='categorical_crossentropy',\n",
        "             metrics=['accuracy'])\n",
        "print(model)"
      ],
      "execution_count": 0,
      "outputs": []
    },
    {
      "metadata": {
        "id": "RYEdzkJzP8s2",
        "colab_type": "code",
        "colab": {}
      },
      "cell_type": "code",
      "source": [
        "x = Input(shape=(784,))\n",
        "y = model(x)\n",
        "print(y)"
      ],
      "execution_count": 0,
      "outputs": []
    },
    {
      "metadata": {
        "id": "5lzXS2hoR5A9",
        "colab_type": "code",
        "colab": {
          "base_uri": "https://localhost:8080/",
          "height": 34
        },
        "outputId": "fec3d3ad-9961-4b85-b9bc-7a6f45b9f974"
      },
      "cell_type": "code",
      "source": [
        "from keras.layers import TimeDistributed\n",
        "input_sequences = Input(shape=(20, 784))\n",
        "print(input_sequences)"
      ],
      "execution_count": 11,
      "outputs": [
        {
          "output_type": "stream",
          "text": [
            "Tensor(\"input_5:0\", shape=(?, 20, 784), dtype=float32)\n"
          ],
          "name": "stdout"
        }
      ]
    },
    {
      "metadata": {
        "id": "E8Cu1CbPSfoU",
        "colab_type": "code",
        "colab": {
          "base_uri": "https://localhost:8080/",
          "height": 50
        },
        "outputId": "d57a0e0c-a93d-49a6-a377-daad8f544667"
      },
      "cell_type": "code",
      "source": [
        "print(TimeDistributed(model))\n",
        "processed_sequences = TimeDistributed(model)(input_sequences)\n",
        "print(processed_sequences)"
      ],
      "execution_count": 13,
      "outputs": [
        {
          "output_type": "stream",
          "text": [
            "<keras.layers.wrappers.TimeDistributed object at 0x7fefc1687f28>\n",
            "Tensor(\"time_distributed_4/Reshape_1:0\", shape=(?, 20, 10), dtype=float32)\n"
          ],
          "name": "stdout"
        }
      ]
    },
    {
      "metadata": {
        "id": "zsm6ISc6ghvd",
        "colab_type": "code",
        "colab": {}
      },
      "cell_type": "code",
      "source": [
        "from numpy import array\n",
        "length = 5\n",
        "seq = array([i/float(length) for i in range(length)])\n",
        "print(seq)\n",
        "x = seq.reshape(5, 1, 1)\n",
        "y = seq.reshape(5, 1)\n",
        "print(x)\n",
        "print(y)"
      ],
      "execution_count": 0,
      "outputs": []
    },
    {
      "metadata": {
        "id": "vnRF5FOejQYy",
        "colab_type": "code",
        "colab": {}
      },
      "cell_type": "code",
      "source": [
        "from numpy import array\n",
        "from keras.models import Sequential\n",
        "from keras.layers import Dense\n",
        "from keras.layers import LSTM\n",
        "# prepare sequence\n",
        "length = 5\n",
        "seq = array([i/float(length) for i in range(length)])\n",
        "X = seq.reshape(len(seq), 1, 1)\n",
        "y = seq.reshape(len(seq), 1)\n",
        "print(X)\n",
        "print(y)\n",
        "# define LSTM configuration\n",
        "n_neurons = 10\n",
        "n_batch = length\n",
        "n_epoch = 1000\n",
        "# create LSTM\n",
        "model = Sequential()\n",
        "model.add(LSTM(n_neurons, input_shape=(1, 1)))\n",
        "model.add(Dense(1))\n",
        "model.compile(loss='mean_squared_error', optimizer='adam')\n",
        "print(model.summary())\n",
        "# train LSTM\n",
        "model.fit(X, y, epochs=n_epoch, batch_size=n_batch, verbose=2)\n",
        "# evaluate\n",
        "result = model.predict(X, batch_size=n_batch, verbose=0)\n",
        "for value in result:\n",
        "    print('%.1f' % value)"
      ],
      "execution_count": 0,
      "outputs": []
    },
    {
      "metadata": {
        "id": "eJmQ3cmKTdZY",
        "colab_type": "code",
        "colab": {}
      },
      "cell_type": "code",
      "source": [
        "from numpy import array\n",
        "from keras.models import Sequential\n",
        "from keras.layers import Dense\n",
        "from keras.layers import LSTM\n",
        "# prepare sequence\n",
        "length = 10\n",
        "length2 = 5\n",
        "seq = array([i/float(length) for i in range(length)])\n",
        "seq2 = array([i/float(length2) for i in range(length2)])\n",
        "X = seq.reshape(len(seq2), 1, 2)\n",
        "y = seq2.reshape(len(seq2), 1)\n",
        "print(X)\n",
        "print(y)\n",
        "# define LSTM configuration\n",
        "n_neurons = 10\n",
        "n_batch = length2\n",
        "n_epoch = 1000\n",
        "# create LSTM\n",
        "model = Sequential()\n",
        "model.add(LSTM(n_neurons, input_shape=(1, 2)))\n",
        "model.add(Dense(1))\n",
        "model.compile(loss='mean_squared_error', optimizer='adam')\n",
        "print(model.summary())\n",
        "# train LSTM\n",
        "model.fit(X, y, epochs=n_epoch, batch_size=n_batch, verbose=2)\n",
        "# evaluate\n",
        "result = model.predict(X, batch_size=n_batch, verbose=0)\n",
        "for value in result:\n",
        "    print('%.1f' % value)"
      ],
      "execution_count": 0,
      "outputs": []
    },
    {
      "metadata": {
        "id": "clfyfl9VVFfe",
        "colab_type": "code",
        "colab": {}
      },
      "cell_type": "code",
      "source": [
        "from numpy import array\n",
        "from keras.models import Sequential\n",
        "from keras.layers import Dense\n",
        "from keras.layers import LSTM\n",
        "# prepare sequence\n",
        "length = 5\n",
        "seq = array([i/float(length) for i in range(length)])\n",
        "X = seq.reshape(1, 5, 1)\n",
        "y = seq.reshape(1, 5)\n",
        "print(X)\n",
        "print(y)\n",
        "# define LSTM configuration\n",
        "n_neurons = 5\n",
        "n_batch = 1\n",
        "n_epoch = 500\n",
        "# create LSTM\n",
        "model = Sequential()\n",
        "model.add(LSTM(n_neurons, input_shape=(5, 1)))\n",
        "model.add(Dense(length))\n",
        "model.compile(loss='mean_squared_error', optimizer='adam')\n",
        "print(model.summary())\n",
        "# train LSTM\n",
        "model.fit(X, y, epochs=n_epoch, batch_size=n_batch, verbose=2)\n",
        "# evaluate\n",
        "result = model.predict(X, batch_size=n_batch, verbose=0)\n",
        "print(result)\n",
        "for value in result[0,:]:\n",
        "    print('%.1f' % value)"
      ],
      "execution_count": 0,
      "outputs": []
    },
    {
      "metadata": {
        "id": "FF-WJ2i4ZE-B",
        "colab_type": "code",
        "colab": {}
      },
      "cell_type": "code",
      "source": [
        "from numpy import array\n",
        "from keras.models import Sequential\n",
        "from keras.layers import Dense\n",
        "from keras.layers import TimeDistributed\n",
        "from keras.layers import LSTM\n",
        "# prepare sequence\n",
        "length = 5\n",
        "seq = array([i/float(length) for i in range(length)])\n",
        "X = seq.reshape(1, length, 1)\n",
        "y = seq.reshape(1, length, 1)\n",
        "# define LSTM configuration\n",
        "n_neurons = length\n",
        "n_batch = 1\n",
        "n_epoch = 1000\n",
        "# create LSTM\n",
        "model = Sequential()\n",
        "model.add(LSTM(n_neurons, input_shape=(length, 1), return_sequences=True))\n",
        "model.add(TimeDistributed(Dense(1)))\n",
        "model.compile(loss='mean_squared_error', optimizer='adam')\n",
        "print(model.summary())\n",
        "# train LSTM\n",
        "model.fit(X, y, epochs=n_epoch, batch_size=n_batch, verbose=2)\n",
        "# evaluate\n",
        "result = model.predict(X, batch_size=n_batch, verbose=0)\n",
        "print(result)\n",
        "for value in result[0,:,0]:\n",
        "    print('%.1f' % value)"
      ],
      "execution_count": 0,
      "outputs": []
    }
  ]
}